{
 "cells": [
  {
   "cell_type": "markdown",
   "metadata": {},
   "source": [
    "All functions that you need to fill in have a 'TODO' comment\n",
    "\n",
    "Feel free to add additional functions or change function signatures."
   ]
  },
  {
   "cell_type": "code",
   "execution_count": 36,
   "metadata": {},
   "outputs": [],
   "source": [
    "import pandas as pd\n",
    "import numpy as np\n",
    "import matplotlib.pyplot as plt\n",
    "import math"
   ]
  },
  {
   "cell_type": "markdown",
   "metadata": {},
   "source": [
    "### Class defining a decision stump"
   ]
  },
  {
   "cell_type": "code",
   "execution_count": null,
   "metadata": {},
   "outputs": [],
   "source": [
    "class DecisionStump():\n",
    "    #class for decision stump\n",
    "    def __init__(self):\n",
    "        #TODO: Define all the necessary class attributes (variables)\n",
    "        #For example: self.beta = None\n",
    "        \n",
    "        pass"
   ]
  },
  {
   "cell_type": "markdown",
   "metadata": {},
   "source": [
    "### Class for Adaboost Classifier"
   ]
  },
  {
   "cell_type": "code",
   "execution_count": 58,
   "metadata": {},
   "outputs": [],
   "source": [
    "class Adaboost():\n",
    "            \n",
    "    def __init__(self, train_file, test_file):\n",
    "        #initialize variables'\n",
    "        #Load the data\n",
    "        self.train_data, self.test_data = self.read_data(train_file, test_file)\n",
    "        self.train_labels, self.test_labels = self.train_data.iloc[:,2], self.test_data.iloc[:,2]\n",
    "        self.train_data, self.test_data = self.train_data.iloc[:,:2], self.test_data.iloc[:,:2]\n",
    "        \n",
    "        self.num_samples, self.num_features = self.train_data.shape    \n",
    "        \n",
    "        #TODO: Define other necessary variables\n",
    "\n",
    "    \n",
    "    def read_data(self, train_file, test_file):\n",
    "        #read data form file paths and return train and test data\n",
    "        return pd.read_csv(train_file), pd.read_csv(test_file)\n",
    "\n",
    "    def weak_classifier(self, true_labels):\n",
    "        #find best feature and threshold\n",
    "        #TODO:\n",
    "        pass\n",
    "                \n",
    "    \n",
    "    def update_weights(self, d_stump, true_labels):\n",
    "        #Weight update\n",
    "        #TODO:\n",
    "        pass\n",
    "    \n",
    "    def adaboost_predict(self):\n",
    "        #Predict from the full model\n",
    "        #TODO:\n",
    "        pass\n",
    "    \n",
    "    def eval_model(self):\n",
    "        #Evaluate the model\n",
    "        #TODO:\n",
    "        pass\n",
    "    \n",
    "    def adaboost_train(self, T):\n",
    "        #Train the model\n",
    "        #TODO:\n",
    "        pass"
   ]
  },
  {
   "cell_type": "markdown",
   "metadata": {},
   "source": [
    "### Train and test the model"
   ]
  },
  {
   "cell_type": "code",
   "execution_count": 59,
   "metadata": {},
   "outputs": [],
   "source": [
    "num_iter = 400\n",
    "\n",
    "adaboost = Adaboost('train_adaboost.csv', 'test_adaboost.csv')\n",
    "\n",
    "adaboost.adaboost_train(num_iter)\n",
    "test_err = adaboost.eval_model()"
   ]
  },
  {
   "cell_type": "markdown",
   "metadata": {},
   "source": [
    "### Plot"
   ]
  },
  {
   "cell_type": "code",
   "execution_count": 1,
   "metadata": {},
   "outputs": [],
   "source": [
    "#TODO: Plot the required plot"
   ]
  }
 ],
 "metadata": {
  "kernelspec": {
   "display_name": "Python 2",
   "language": "python",
   "name": "python2"
  },
  "language_info": {
   "codemirror_mode": {
    "name": "ipython",
    "version": 2
   },
   "file_extension": ".py",
   "mimetype": "text/x-python",
   "name": "python",
   "nbconvert_exporter": "python",
   "pygments_lexer": "ipython2",
   "version": "2.7.16"
  }
 },
 "nbformat": 4,
 "nbformat_minor": 2
}
